{
 "cells": [
  {
   "cell_type": "markdown",
   "metadata": {},
   "source": [
    "# Agent Types\n",
    "[大模型时代Agent开发方法论.pdf](./assets/1-大模型时代%20Agent%20开发方法论.pdf)"
   ]
  },
  {
   "cell_type": "markdown",
   "metadata": {},
   "source": [
    "## 按使用场景分类"
   ]
  },
  {
   "cell_type": "markdown",
   "metadata": {},
   "source": [
    "### Action Agent\n",
    "\n",
    "一个问题 = reasoning + Action (ReAct) 的Agent使用场景。\n",
    "\n",
    "llm + Function Calling 的形式。\n"
   ]
  },
  {
   "cell_type": "markdown",
   "metadata": {},
   "source": [
    "### Simulation Agent\n",
    "\n",
    "类似赋予Agent人格去仿真模拟某些任务。"
   ]
  },
  {
   "cell_type": "markdown",
   "metadata": {},
   "source": [
    "### Autonomous Agent\n",
    "\n",
    "Auto-GPT就是其中一个例子。给定了Goal之后,Auto-GPT = 别人封装好的prompt提示词以及API 会自动的去拆解任务。尽大可能的让llm自己去规划具体的任务完成步骤。"
   ]
  },
  {
   "cell_type": "code",
   "execution_count": 1,
   "metadata": {},
   "outputs": [],
   "source": [
    "# langchain的话已经封装好了AutoGPT\n",
    "from langchain_experimental.autonomous_agents import AutoGPT"
   ]
  },
  {
   "cell_type": "markdown",
   "metadata": {},
   "source": [
    "## 按基于的技术实现分类"
   ]
  },
  {
   "cell_type": "markdown",
   "metadata": {},
   "source": [
    "- ChatBot\n",
    "- Rag\n",
    "- Planning Agents\n",
    "- Reflaction & Critique\n",
    "- Evaluation"
   ]
  },
  {
   "cell_type": "markdown",
   "metadata": {},
   "source": [
    "### Corrective Rag\n",
    "\n",
    "https://zenn.dev/mizunny/articles/a92d95a26da32e#corrective-rag-(crag)"
   ]
  },
  {
   "cell_type": "markdown",
   "metadata": {},
   "source": [
    "<img src=\"./assets/cRag.png\" title=\"cRag\">\n",
    "\n",
    "prompt ->\n",
    "retrieve ->\n",
    "is correct ? -> No\n",
    "search on web\n",
    "\n",
    "思考+search on web的部分去加强Rag的正确性。"
   ]
  },
  {
   "cell_type": "markdown",
   "metadata": {},
   "source": [
    "### Self-Rag\n",
    "\n",
    "https://zenn.dev/mizunny/articles/a92d95a26da32e#self-rag"
   ]
  },
  {
   "cell_type": "markdown",
   "metadata": {},
   "source": [
    "<img src=\"./assets/self-rag.png\" title=\"self-rag\">\n",
    "\n",
    "prompt -> \n",
    "-> 判断input是否需要retrieve\n",
    "-> IF 需要\n",
    "-> 并行进行 retrieve node (比如, 3次)\n",
    "-> 每一个并行的 retrieve node取得的结果和input进行相关判断\n",
    "-> 对3个结果进行排名\n",
    "-> IF 不需要 -> 直接生成结果回答\n",
    "\n",
    "self-Rag : 自我进行retrieve+判断+评分"
   ]
  },
  {
   "cell_type": "markdown",
   "metadata": {},
   "source": [
    "### ELSE\n",
    "\n",
    "- LLMCompiler\n",
    "- Language Agent Tree Search (LATS)\n",
    "- Multi-agent\n",
    "  - router-chain判断调用function,结果整合,返回用户\n",
    "- Agent Supervisor\n",
    "  - 我写的seminar-demo的recommendation chat-bot就是类似这种形式 = 让llm判断到底该进行什么操作"
   ]
  },
  {
   "cell_type": "markdown",
   "metadata": {},
   "source": [
    "## 按智能程度分类\n",
    "\n",
    "具体看 [pdf](./assets/1-大模型时代%20Agent%20开发方法论.pdf)。\n",
    "\n",
    "从最简单的 llm+function calling 到类似 langgraph 的state状态存储功能, 再到Auto-Agent的赋予Goal之后让llm自己去拆解任务, 再添加反馈函数, 最后通过反馈+持续学习构成一个Agent。"
   ]
  },
  {
   "cell_type": "markdown",
   "metadata": {},
   "source": [
    "# Framework"
   ]
  },
  {
   "cell_type": "markdown",
   "metadata": {},
   "source": [
    "- Langchain\n",
    "- Langgraph\n",
    "- LlamaIndex\n",
    "  - 专注于数据方面的一个framework, 适合Rag类型application\n",
    "- Semantic Kernel\n",
    "  - 专注于集成各个模型"
   ]
  },
  {
   "cell_type": "markdown",
   "metadata": {},
   "source": [
    "# Hosting"
   ]
  },
  {
   "cell_type": "markdown",
   "metadata": {},
   "source": [
    "- Ollama\n",
    "  - Host私有大模型的时候可以用这个oss\n",
    "  - gemma, Llama之类的模型都可以在本地/私有部署\n",
    "- LangServe\n",
    "  - 集成Langchain"
   ]
  },
  {
   "cell_type": "markdown",
   "metadata": {},
   "source": [
    "# FrontEnd"
   ]
  },
  {
   "cell_type": "markdown",
   "metadata": {},
   "source": [
    "- Gradio\n",
    "- Streamlit"
   ]
  }
 ],
 "metadata": {
  "kernelspec": {
   "display_name": "llm-SbMP_ClQ-py3.12",
   "language": "python",
   "name": "python3"
  },
  "language_info": {
   "codemirror_mode": {
    "name": "ipython",
    "version": 3
   },
   "file_extension": ".py",
   "mimetype": "text/x-python",
   "name": "python",
   "nbconvert_exporter": "python",
   "pygments_lexer": "ipython3",
   "version": "3.12.0"
  }
 },
 "nbformat": 4,
 "nbformat_minor": 2
}
