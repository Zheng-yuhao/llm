{
 "cells": [
  {
   "cell_type": "markdown",
   "metadata": {},
   "source": [
    "# What is Attention in LLM ?\n",
    "\n",
    "注意力机制就是一种方法帮助LLM去**抓住重点**而忽略掉一些冗余的信息。\n",
    "\n",
    "注意力机制中的Alignment Function译位对其函数,他的作用是通过一个类似对应关系的矩阵去找到输入于输出之间关系(更加官方的说法叫权重α)。\n",
    "\n",
    "在LLM进行学习, 例如 space 和 area 的翻译任务的时候, 会通过对齐函数来学习**一个特定的输出area下哪一个输入space对应的关联性最高**, 最终会形成一个矩阵的形式。\n",
    "\n",
    "不同的场景=不同的输入会学习并且生产不一样的Alignment Function。\n",
    "\n",
    "<img src=\"./assets/attention.png\" width=\"300\">"
   ]
  },
  {
   "cell_type": "markdown",
   "metadata": {},
   "source": [
    "# What is Transformer ?\n",
    "\n"
   ]
  }
 ],
 "metadata": {
  "kernelspec": {
   "display_name": "llm-SbMP_ClQ-py3.12",
   "language": "python",
   "name": "python3"
  },
  "language_info": {
   "name": "python",
   "version": "3.12.0"
  }
 },
 "nbformat": 4,
 "nbformat_minor": 2
}
